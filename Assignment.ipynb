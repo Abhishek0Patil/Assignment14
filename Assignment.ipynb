{
 "cells": [
  {
   "cell_type": "code",
   "execution_count": 6,
   "id": "04c1e0ee-d58b-436b-92b2-d5032e12c4bd",
   "metadata": {},
   "outputs": [],
   "source": [
    "import numpy as np\n",
    "list_ = ['1','2','3','4','5']\n",
    "array_list = np.array(object=list_)"
   ]
  },
  {
   "cell_type": "markdown",
   "id": "699d661e-5cca-4447-b033-e9478c554f87",
   "metadata": {},
   "source": [
    "yes there is a difference between datatypes"
   ]
  },
  {
   "cell_type": "code",
   "execution_count": 9,
   "id": "4dbd6ca3-ec42-42b5-925c-d67f2d86b35f",
   "metadata": {},
   "outputs": [
    {
     "name": "stdout",
     "output_type": "stream",
     "text": [
      "the data type of variables list_ is  <class 'list'>\n",
      "the data type of array_list is  <class 'numpy.ndarray'>\n"
     ]
    }
   ],
   "source": [
    "print(\"the data type of variables list_ is \",type(list_))\n",
    "print(\"the data type of array_list is \",type(array_list))"
   ]
  },
  {
   "cell_type": "code",
   "execution_count": 10,
   "id": "1d06d994-c22e-4f8c-9d3a-4bc8902ea381",
   "metadata": {},
   "outputs": [
    {
     "name": "stdout",
     "output_type": "stream",
     "text": [
      "the data type of each elemet in variable list_ is \n",
      "<class 'str'>\n",
      "<class 'str'>\n",
      "<class 'str'>\n",
      "<class 'str'>\n",
      "<class 'str'>\n",
      "the data type of each element in array_list is \n",
      "<class 'numpy.str_'>\n",
      "<class 'numpy.str_'>\n",
      "<class 'numpy.str_'>\n",
      "<class 'numpy.str_'>\n",
      "<class 'numpy.str_'>\n"
     ]
    }
   ],
   "source": [
    "print(\"the data type of each elemet in variable list_ is \")\n",
    "for i in list_ :\n",
    "    print(type(i))\n",
    "    \n",
    "print(\"the data type of each element in array_list is \")\n",
    "for i in array_list :\n",
    "    print(type(i))"
   ]
  },
  {
   "cell_type": "code",
   "execution_count": 11,
   "id": "a1e078fb-7681-406a-a581-0df268bd064f",
   "metadata": {},
   "outputs": [],
   "source": [
    "array_list = np.array(object = list_, dtype = int)"
   ]
  },
  {
   "cell_type": "markdown",
   "id": "9a2c3d81-dfea-4022-8213-5b819880270a",
   "metadata": {},
   "source": [
    "Now, there is a difference between the datatype of elements "
   ]
  },
  {
   "cell_type": "code",
   "execution_count": 15,
   "id": "bdcefa5c-3bb2-4fe4-b818-f7edc3861d34",
   "metadata": {},
   "outputs": [
    {
     "name": "stdout",
     "output_type": "stream",
     "text": [
      "the data type of each elemet in variable list_ is \n",
      "<class 'str'>\n",
      "<class 'str'>\n",
      "<class 'str'>\n",
      "<class 'str'>\n",
      "<class 'str'>\n",
      "the data type of each element in array_list is \n",
      "<class 'numpy.int64'>\n",
      "<class 'numpy.int64'>\n",
      "<class 'numpy.int64'>\n",
      "<class 'numpy.int64'>\n",
      "<class 'numpy.int64'>\n"
     ]
    }
   ],
   "source": [
    "print(\"the data type of each elemet in variable list_ is \")\n",
    "for i in list_ :\n",
    "    print(type(i))\n",
    "    \n",
    "print(\"the data type of each element in array_list is \")\n",
    "for i in array_list :\n",
    "    print(type(i))"
   ]
  },
  {
   "cell_type": "code",
   "execution_count": 17,
   "id": "c3371848-e4e4-433a-99bd-b7c24f1c9f01",
   "metadata": {},
   "outputs": [],
   "source": [
    "import numpy as np\n",
    "num_list = [ [ 1 , 2 , 3 ] , [ 4 , 5 , 6 ] ]\n",
    "num_array = np.array(object = num_list)"
   ]
  },
  {
   "cell_type": "code",
   "execution_count": 22,
   "id": "4f06f032-29a7-4bae-ab90-3970c0c26e11",
   "metadata": {},
   "outputs": [
    {
     "data": {
      "text/plain": [
       "array([[1, 2, 3],\n",
       "       [4, 5, 6]])"
      ]
     },
     "execution_count": 22,
     "metadata": {},
     "output_type": "execute_result"
    }
   ],
   "source": [
    "num_array"
   ]
  },
  {
   "cell_type": "code",
   "execution_count": 20,
   "id": "3ca42081-178c-4131-9ca8-174147668083",
   "metadata": {},
   "outputs": [
    {
     "data": {
      "text/plain": [
       "(2, 3)"
      ]
     },
     "execution_count": 20,
     "metadata": {},
     "output_type": "execute_result"
    }
   ],
   "source": [
    "num_array.shape"
   ]
  },
  {
   "cell_type": "code",
   "execution_count": 21,
   "id": "9d657509-629c-437a-9255-05fc6ce3a815",
   "metadata": {},
   "outputs": [
    {
     "data": {
      "text/plain": [
       "6"
      ]
     },
     "execution_count": 21,
     "metadata": {},
     "output_type": "execute_result"
    }
   ],
   "source": [
    "num_array.size"
   ]
  },
  {
   "cell_type": "code",
   "execution_count": 24,
   "id": "5a47f0d6-c2ad-44fd-89e3-4dcbd122b783",
   "metadata": {},
   "outputs": [
    {
     "data": {
      "text/plain": [
       "array([[0, 0, 0],\n",
       "       [0, 0, 0],\n",
       "       [0, 0, 0]])"
      ]
     },
     "execution_count": 24,
     "metadata": {},
     "output_type": "execute_result"
    }
   ],
   "source": [
    "np.random.randint(0,1,(3,3))"
   ]
  },
  {
   "cell_type": "code",
   "execution_count": 29,
   "id": "3bb83ce2-2b20-48ca-9639-4b87f856f41f",
   "metadata": {},
   "outputs": [
    {
     "data": {
      "text/plain": [
       "array([[1, 0, 0, 0, 0],\n",
       "       [0, 1, 0, 0, 0],\n",
       "       [0, 0, 1, 0, 0],\n",
       "       [0, 0, 0, 1, 0],\n",
       "       [0, 0, 0, 0, 1]])"
      ]
     },
     "execution_count": 29,
     "metadata": {},
     "output_type": "execute_result"
    }
   ],
   "source": [
    "np.diag([1,1,1,1,1])"
   ]
  },
  {
   "cell_type": "code",
   "execution_count": null,
   "id": "195a392b-0927-4439-9966-c4776e8cc531",
   "metadata": {},
   "outputs": [],
   "source": []
  }
 ],
 "metadata": {
  "kernelspec": {
   "display_name": "Python 3 (ipykernel)",
   "language": "python",
   "name": "python3"
  },
  "language_info": {
   "codemirror_mode": {
    "name": "ipython",
    "version": 3
   },
   "file_extension": ".py",
   "mimetype": "text/x-python",
   "name": "python",
   "nbconvert_exporter": "python",
   "pygments_lexer": "ipython3",
   "version": "3.10.8"
  }
 },
 "nbformat": 4,
 "nbformat_minor": 5
}
